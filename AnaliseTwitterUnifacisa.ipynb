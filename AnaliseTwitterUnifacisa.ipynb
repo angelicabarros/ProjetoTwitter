{
 "cells": [
  {
   "cell_type": "markdown",
   "metadata": {},
   "source": [
    "# Projeto Twitter Unifacisa\n",
    "\n",
    "- Projeto de importação, análise de dados do twitter e armazenamento em banco de dados\n",
    "- Biblioteca tweepy: https://docs.tweepy.org/en/stable/\n",
    "- Cadastrar como desenvolvedor no Twitter Developer: https://developer.twitter.com/en"
   ]
  },
  {
   "cell_type": "code",
   "execution_count": 1,
   "metadata": {},
   "outputs": [],
   "source": [
    "import tweepy as tw\n",
    "import pandas as pd\n",
    "import time\n",
    "import sqlite3"
   ]
  },
  {
   "cell_type": "code",
   "execution_count": 2,
   "metadata": {},
   "outputs": [],
   "source": [
    "# Criando as credenciais como variáveis\n",
    "\n",
    "bearer_token = ''\n",
    "consumer_key = ''\n",
    "consumer_secret = ''\n",
    "access_token = ''\n",
    "access_token_secret = ''"
   ]
  },
  {
   "cell_type": "code",
   "execution_count": 3,
   "metadata": {},
   "outputs": [],
   "source": [
    "# Criando nosso Client\n",
    "cliente = tw.Client(bearer_token,consumer_key, consumer_secret, access_token, access_token_secret)"
   ]
  },
  {
   "cell_type": "code",
   "execution_count": 4,
   "metadata": {},
   "outputs": [],
   "source": [
    "# Conectando ao meu banco de dados\n",
    "con = sqlite3.connect('BD_Facisa.db')"
   ]
  },
  {
   "cell_type": "code",
   "execution_count": 5,
   "metadata": {},
   "outputs": [],
   "source": [
    "cur = con.cursor()"
   ]
  },
  {
   "cell_type": "code",
   "execution_count": 6,
   "metadata": {},
   "outputs": [],
   "source": [
    "start = '2022-03-06T00:01:00Z'\n",
    "end = '2022-03-06T19:47:00Z'\n",
    "\n",
    "resposta = cliente.search_recent_tweets(query='unifacisa',max_results=100,start_time=start,end_time=end)"
   ]
  },
  {
   "cell_type": "code",
   "execution_count": 7,
   "metadata": {},
   "outputs": [
    {
     "data": {
      "text/plain": [
       "list"
      ]
     },
     "execution_count": 7,
     "metadata": {},
     "output_type": "execute_result"
    }
   ],
   "source": [
    "dados = resposta.data\n",
    "type(dados)"
   ]
  },
  {
   "cell_type": "code",
   "execution_count": 8,
   "metadata": {},
   "outputs": [
    {
     "data": {
      "text/plain": [
       "<sqlite3.Cursor at 0x237fcd45d50>"
      ]
     },
     "execution_count": 8,
     "metadata": {},
     "output_type": "execute_result"
    }
   ],
   "source": [
    "# Criar a minha tabela\n",
    "\n",
    "cur.execute('CREATE TABLE registros (texto TEXT,RT TEXT)')"
   ]
  },
  {
   "cell_type": "code",
   "execution_count": 10,
   "metadata": {},
   "outputs": [],
   "source": [
    "for i in dados:\n",
    "    texto = i.text\n",
    "    if (texto[:2] == 'RT'):\n",
    "        RT = 'S'\n",
    "    else:\n",
    "        RT = 'N'\n",
    "    \n",
    "    cur.execute(\"INSERT INTO registros (texto,RT) VALUES (?,?)\",(texto,RT))\n",
    "    \n",
    "con.commit()        "
   ]
  },
  {
   "cell_type": "markdown",
   "metadata": {},
   "source": [
    "### Realizando consulta"
   ]
  },
  {
   "cell_type": "code",
   "execution_count": 12,
   "metadata": {},
   "outputs": [],
   "source": [
    "# Criando uma conexão\n",
    "\n",
    "con = sqlite3.connect('BD_Facisa.db')\n",
    "\n",
    "cur = con.cursor()"
   ]
  },
  {
   "cell_type": "code",
   "execution_count": 13,
   "metadata": {},
   "outputs": [
    {
     "data": {
      "text/plain": [
       "<sqlite3.Cursor at 0x237fcd97260>"
      ]
     },
     "execution_count": 13,
     "metadata": {},
     "output_type": "execute_result"
    }
   ],
   "source": [
    "cur.execute('SELECT * FROM registros')"
   ]
  },
  {
   "cell_type": "code",
   "execution_count": 14,
   "metadata": {},
   "outputs": [],
   "source": [
    "resultados = cur.fetchall()\n",
    "resultados = pd.DataFrame(resultados)"
   ]
  },
  {
   "cell_type": "code",
   "execution_count": 15,
   "metadata": {},
   "outputs": [
    {
     "data": {
      "text/html": [
       "<div>\n",
       "<style scoped>\n",
       "    .dataframe tbody tr th:only-of-type {\n",
       "        vertical-align: middle;\n",
       "    }\n",
       "\n",
       "    .dataframe tbody tr th {\n",
       "        vertical-align: top;\n",
       "    }\n",
       "\n",
       "    .dataframe thead th {\n",
       "        text-align: right;\n",
       "    }\n",
       "</style>\n",
       "<table border=\"1\" class=\"dataframe\">\n",
       "  <thead>\n",
       "    <tr style=\"text-align: right;\">\n",
       "      <th></th>\n",
       "      <th>texto</th>\n",
       "      <th>RT</th>\n",
       "    </tr>\n",
       "  </thead>\n",
       "  <tbody>\n",
       "    <tr>\n",
       "      <th>0</th>\n",
       "      <td>Unifacisa vence o Pato e segue firme em busca ...</td>\n",
       "      <td>N</td>\n",
       "    </tr>\n",
       "    <tr>\n",
       "      <th>1</th>\n",
       "      <td>Corinthians se complicou na busca pelo playoff...</td>\n",
       "      <td>N</td>\n",
       "    </tr>\n",
       "    <tr>\n",
       "      <th>2</th>\n",
       "      <td>@Fernandinhoo77 A sequência é complicada mesmo...</td>\n",
       "      <td>N</td>\n",
       "    </tr>\n",
       "    <tr>\n",
       "      <th>3</th>\n",
       "      <td>RT @SccpBasquete: Os próximos 9 jogos ⬇️\\n\\n08...</td>\n",
       "      <td>S</td>\n",
       "    </tr>\n",
       "    <tr>\n",
       "      <th>4</th>\n",
       "      <td>RT @SccpBasquete: Os próximos 9 jogos ⬇️\\n\\n08...</td>\n",
       "      <td>S</td>\n",
       "    </tr>\n",
       "    <tr>\n",
       "      <th>5</th>\n",
       "      <td>Os próximos 9 jogos ⬇️\\n\\n08/03 Brasília (Fora...</td>\n",
       "      <td>N</td>\n",
       "    </tr>\n",
       "    <tr>\n",
       "      <th>6</th>\n",
       "      <td>@eneaslima São Paulo em quarto, Unifacisa em q...</td>\n",
       "      <td>N</td>\n",
       "    </tr>\n",
       "    <tr>\n",
       "      <th>7</th>\n",
       "      <td>Unifacisa vence o Pato e segue firme em busca ...</td>\n",
       "      <td>N</td>\n",
       "    </tr>\n",
       "    <tr>\n",
       "      <th>8</th>\n",
       "      <td>Corinthians se complicou na busca pelo playoff...</td>\n",
       "      <td>N</td>\n",
       "    </tr>\n",
       "    <tr>\n",
       "      <th>9</th>\n",
       "      <td>@Fernandinhoo77 A sequência é complicada mesmo...</td>\n",
       "      <td>N</td>\n",
       "    </tr>\n",
       "    <tr>\n",
       "      <th>10</th>\n",
       "      <td>RT @SccpBasquete: Os próximos 9 jogos ⬇️\\n\\n08...</td>\n",
       "      <td>S</td>\n",
       "    </tr>\n",
       "    <tr>\n",
       "      <th>11</th>\n",
       "      <td>RT @SccpBasquete: Os próximos 9 jogos ⬇️\\n\\n08...</td>\n",
       "      <td>S</td>\n",
       "    </tr>\n",
       "    <tr>\n",
       "      <th>12</th>\n",
       "      <td>Os próximos 9 jogos ⬇️\\n\\n08/03 Brasília (Fora...</td>\n",
       "      <td>N</td>\n",
       "    </tr>\n",
       "    <tr>\n",
       "      <th>13</th>\n",
       "      <td>@eneaslima São Paulo em quarto, Unifacisa em q...</td>\n",
       "      <td>N</td>\n",
       "    </tr>\n",
       "  </tbody>\n",
       "</table>\n",
       "</div>"
      ],
      "text/plain": [
       "                                                texto RT\n",
       "0   Unifacisa vence o Pato e segue firme em busca ...  N\n",
       "1   Corinthians se complicou na busca pelo playoff...  N\n",
       "2   @Fernandinhoo77 A sequência é complicada mesmo...  N\n",
       "3   RT @SccpBasquete: Os próximos 9 jogos ⬇️\\n\\n08...  S\n",
       "4   RT @SccpBasquete: Os próximos 9 jogos ⬇️\\n\\n08...  S\n",
       "5   Os próximos 9 jogos ⬇️\\n\\n08/03 Brasília (Fora...  N\n",
       "6   @eneaslima São Paulo em quarto, Unifacisa em q...  N\n",
       "7   Unifacisa vence o Pato e segue firme em busca ...  N\n",
       "8   Corinthians se complicou na busca pelo playoff...  N\n",
       "9   @Fernandinhoo77 A sequência é complicada mesmo...  N\n",
       "10  RT @SccpBasquete: Os próximos 9 jogos ⬇️\\n\\n08...  S\n",
       "11  RT @SccpBasquete: Os próximos 9 jogos ⬇️\\n\\n08...  S\n",
       "12  Os próximos 9 jogos ⬇️\\n\\n08/03 Brasília (Fora...  N\n",
       "13  @eneaslima São Paulo em quarto, Unifacisa em q...  N"
      ]
     },
     "metadata": {},
     "output_type": "display_data"
    }
   ],
   "source": [
    "resultados.columns = ['texto','RT']\n",
    "display(resultados)"
   ]
  },
  {
   "cell_type": "code",
   "execution_count": 16,
   "metadata": {},
   "outputs": [],
   "source": [
    "resultados.to_excel('resultados.xlsx')"
   ]
  },
  {
   "cell_type": "code",
   "execution_count": null,
   "metadata": {},
   "outputs": [],
   "source": []
  }
 ],
 "metadata": {
  "kernelspec": {
   "display_name": "Python 3",
   "language": "python",
   "name": "python3"
  },
  "language_info": {
   "codemirror_mode": {
    "name": "ipython",
    "version": 3
   },
   "file_extension": ".py",
   "mimetype": "text/x-python",
   "name": "python",
   "nbconvert_exporter": "python",
   "pygments_lexer": "ipython3",
   "version": "3.8.5"
  }
 },
 "nbformat": 4,
 "nbformat_minor": 4
}
